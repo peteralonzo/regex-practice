{
 "cells": [
  {
   "cell_type": "code",
   "execution_count": 2,
   "metadata": {},
   "outputs": [],
   "source": [
    "import re"
   ]
  },
  {
   "cell_type": "code",
   "execution_count": 3,
   "metadata": {},
   "outputs": [],
   "source": [
    "email_text = \"\"\"\n",
    "Hi Team,\n",
    "\n",
    "Please note the following updates for our project:\n",
    "\n",
    "1. The next meeting is scheduled for 2024-08-15 at our main office. Please confirm your availability.\n",
    "2. We have received a new batch of feedback from clients. Some of the notable ones include:\n",
    "   - \"The service was excellent and the response time was quick.\"\n",
    "   - \"Please contact me at john.doe@example.com for further discussions.\"\n",
    "3. Our support team can be reached at:\n",
    "   - Phone: 123-456-7890 (John Doe)\n",
    "   - Phone: 987-654-3210 (Jane Smith)\n",
    "4. The project deadline has been moved to 2024-12-31. Ensure all deliverables are completed by then.\n",
    "5. For any urgent issues, please email support@project.com or call our hotline at 555-123-4567.\n",
    "6. The previous meeting minutes are available at 2023-07-25. Please review them before the next meeting.\n",
    "\n",
    "Best regards,\n",
    "Project Manager\n",
    "\"\"\""
   ]
  },
  {
   "cell_type": "code",
   "execution_count": 5,
   "metadata": {},
   "outputs": [
    {
     "name": "stdout",
     "output_type": "stream",
     "text": [
      "['2024-08-15', '2024-12-31', '2023-07-25']\n"
     ]
    }
   ],
   "source": [
    "pattern = \"\\d{4}.\\d{2}.\\d{2}\"\n",
    "result = re.findall(pattern, email_text) \n",
    "print(result)"
   ]
  },
  {
   "cell_type": "code",
   "execution_count": 6,
   "metadata": {},
   "outputs": [
    {
     "name": "stdout",
     "output_type": "stream",
     "text": [
      "['123-456-7890', '987-654-3210', '555-123-4567']\n"
     ]
    }
   ],
   "source": [
    "pattern2 = \"\\d{3}.\\d{3}.\\d{4}\"\n",
    "result2 = re.findall(pattern2, email_text) \n",
    "print(result2)"
   ]
  },
  {
   "cell_type": "code",
   "execution_count": 11,
   "metadata": {},
   "outputs": [
    {
     "name": "stdout",
     "output_type": "stream",
     "text": [
      "['john.doe@example.com', 'support@project.com']\n"
     ]
    }
   ],
   "source": [
    "# pattern3 = r'^[\\w\\.-]+@[\\w\\.-]+\\.\\w+$'\n",
    "pattern3 = \"\\S+@\\w*.com\"\n",
    "result3 = re.findall(pattern3, email_text) \n",
    "print(result3)"
   ]
  }
 ],
 "metadata": {
  "kernelspec": {
   "display_name": "Python 3",
   "language": "python",
   "name": "python3"
  },
  "language_info": {
   "codemirror_mode": {
    "name": "ipython",
    "version": 3
   },
   "file_extension": ".py",
   "mimetype": "text/x-python",
   "name": "python",
   "nbconvert_exporter": "python",
   "pygments_lexer": "ipython3",
   "version": "3.10.13"
  }
 },
 "nbformat": 4,
 "nbformat_minor": 2
}
